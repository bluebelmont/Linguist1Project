{
 "cells": [
  {
   "cell_type": "markdown",
   "metadata": {},
   "source": [
    "# Speaking about family: differences in speech patterns across demographics \n",
    "\n",
    "This notebook contains all of the analyses for Group 13's final project in Linguistics 1. "
   ]
  },
  {
   "cell_type": "markdown",
   "metadata": {},
   "source": [
    "## Project Proposal\n",
    "\n",
    "1. **Issue/Behavior of interest** We are interested in exploring how conversations about family differ across gender/age/other demographics. Perhaps there is a gender difference in the types of words surrounding family conversations, or perhaps the gender makeup of the conversations (man-to-man vs. man-to-woman vs. woman-to-woman) result in significant differences in the words. These are the general questions we are interested in pursuing.\n",
    "\n",
    "2. **Research Question** Are there any notable differences in the keywords or the sentiment used by male speakers and female speakers in conversations about family?\n",
    "\n",
    "3. **Proposed Methods** Since we are specifically interested in conversations about family, we plan to preprocess the data to only specifically select conversations with a listed “Theme/Topic” of Family, or conversations where family related keywords could appear. Within this subset of the data, we plan to compare 1) the frequency of particular content words and 2) the sentiment of content words across different speaker populations (male, female, young, old). Comparing the frequency of content words will be straightforward; doing sentiment analysis will be slightly more complicated, but open source sentiment analysis software (NLTK) will simplify the task immensely. As a first past, we’ll look at whether females/males speak more/less positively while speaking about family.\n",
    "\n",
    "4. **Further Questions** Is there a dependence on the speaker’s content words (either frequency or sentiment) on the listener? Are there interaction effects between the age and sex of a speaker on the sentiment of their speech? \n"
   ]
  },
  {
   "cell_type": "markdown",
   "metadata": {},
   "source": [
    "## Data Preprocessing\n",
    "\n",
    "The raw data contains 17683 entries. Each entry corresponds to a single word, and a number of features related to the setting in which the word was spoken:\n",
    "* Cafe Name\n",
    "* Time of Day\n",
    "* Speaker Age and Gender\n",
    "* Listener 1 and 2 Age and Gender\n",
    "* Theme/Topic\n",
    "* Formality (Informal, Neutral, Formal)\n",
    "\n",
    "### Filtering Theme/Topic\n",
    "For our study, we are interested solely in entries whose Theme/Topic contains the word family. Thus, we filtered the entries to include only those who's 'Theme/Topic' column contained the word 'Family'. \n",
    "\n",
    "Of these remaining entries, one conversation was labeled as 'General discussion among family'; we discarded all such entries because we are interested in conversations *about* family, not just *among* family.\n",
    "\n",
    "### Fixing Ages\n",
    "Many of the recorded ages included ranges rather than single numbers (e.g. '18-25', '30s'). In these cases, we approximate these ages with the mean of the range.\n",
    "\n",
    "### Phrases to words\n",
    "Despite clear instruction, some students failed to understand that the 'Content Words (one word, not phrases)' column was to contain one word, not phrases. We limit our analysis to entries with only a single word in the Content Words column.\n",
    "\n",
    "The CSV with the clean data can be found [here](all_clean_data.csv). It only contains columns with Speaker Age and Gender, Listener 1 Age and Gender, Theme/Topic (with an additional logical column indicating whether it is about 'family'), and the content word. "
   ]
  },
  {
   "cell_type": "markdown",
   "metadata": {
    "collapsed": true
   },
   "source": [
    "## Loading the Data\n",
    "\n",
    "Now that we have the data in a clean CSV file, we need to get it in a format that we can use in python for further analysis. We'll use [pandas](http://pandas.pydata.org/), a popular tool for handling data in python."
   ]
  },
  {
   "cell_type": "code",
   "execution_count": 5,
   "metadata": {
    "collapsed": false
   },
   "outputs": [],
   "source": [
    "import pandas\n",
    "all_data = pandas.read_csv('all_clean_data.csv')"
   ]
  },
  {
   "cell_type": "markdown",
   "metadata": {},
   "source": [
    "Here's the top of our data table:"
   ]
  },
  {
   "cell_type": "code",
   "execution_count": 12,
   "metadata": {
    "collapsed": false
   },
   "outputs": [
    {
     "data": {
      "text/html": [
       "<div>\n",
       "<table border=\"1\" class=\"dataframe\">\n",
       "  <thead>\n",
       "    <tr style=\"text-align: right;\">\n",
       "      <th></th>\n",
       "      <th>Speaker Age</th>\n",
       "      <th>Speaker Gender</th>\n",
       "      <th>Listener 1 Age</th>\n",
       "      <th>Listener 1 Gender</th>\n",
       "      <th>Content Word</th>\n",
       "      <th>Theme/Topic</th>\n",
       "      <th>Is about Family</th>\n",
       "    </tr>\n",
       "  </thead>\n",
       "  <tbody>\n",
       "    <tr>\n",
       "      <th>0</th>\n",
       "      <td>45</td>\n",
       "      <td>male</td>\n",
       "      <td>15</td>\n",
       "      <td>female</td>\n",
       "      <td>Allergic</td>\n",
       "      <td>Allergies</td>\n",
       "      <td>0</td>\n",
       "    </tr>\n",
       "    <tr>\n",
       "      <th>1</th>\n",
       "      <td>45</td>\n",
       "      <td>male</td>\n",
       "      <td>15</td>\n",
       "      <td>female</td>\n",
       "      <td>Reactions</td>\n",
       "      <td>Allergies</td>\n",
       "      <td>0</td>\n",
       "    </tr>\n",
       "    <tr>\n",
       "      <th>2</th>\n",
       "      <td>45</td>\n",
       "      <td>male</td>\n",
       "      <td>15</td>\n",
       "      <td>female</td>\n",
       "      <td>Lactose</td>\n",
       "      <td>Allergies</td>\n",
       "      <td>0</td>\n",
       "    </tr>\n",
       "    <tr>\n",
       "      <th>3</th>\n",
       "      <td>45</td>\n",
       "      <td>male</td>\n",
       "      <td>15</td>\n",
       "      <td>female</td>\n",
       "      <td>Free</td>\n",
       "      <td>Allergies</td>\n",
       "      <td>0</td>\n",
       "    </tr>\n",
       "    <tr>\n",
       "      <th>4</th>\n",
       "      <td>45</td>\n",
       "      <td>male</td>\n",
       "      <td>15</td>\n",
       "      <td>female</td>\n",
       "      <td>Milk</td>\n",
       "      <td>Allergies</td>\n",
       "      <td>0</td>\n",
       "    </tr>\n",
       "  </tbody>\n",
       "</table>\n",
       "</div>"
      ],
      "text/plain": [
       "  Speaker Age Speaker Gender  Listener 1 Age Listener 1 Gender Content Word  \\\n",
       "0          45           male              15            female     Allergic   \n",
       "1          45           male              15            female    Reactions   \n",
       "2          45           male              15            female      Lactose   \n",
       "3          45           male              15            female         Free   \n",
       "4          45           male              15            female         Milk   \n",
       "\n",
       "  Theme/Topic  Is about Family  \n",
       "0   Allergies                0  \n",
       "1   Allergies                0  \n",
       "2   Allergies                0  \n",
       "3   Allergies                0  \n",
       "4   Allergies                0  "
      ]
     },
     "execution_count": 12,
     "metadata": {},
     "output_type": "execute_result"
    }
   ],
   "source": [
    "all_data.head()"
   ]
  },
  {
   "cell_type": "markdown",
   "metadata": {},
   "source": [
    "## Sentiment Analysis\n",
    "\n",
    "Our project makes use of 'sentiment analysis', a technique in natural language processessing that evaluates the sentiment of words, sentences, or other bodies of text. There are many approaches to sentiment analysis (**CITATIONS**). Because we have content words rather than full sentences or paragraphs, we use a 'bag-of-words' model. **ISHAN**, say a little about what this means and use *flashy* words.\n",
    "\n",
    "### SentiWordNet\n",
    "**ISHAN**, fill this in with details about how sentiwordnet is trained, the underlying model, etc. and cite the source code\n",
    "\n",
    "### Generating Sentiment Scores\n",
    "\n",
    "Now, we generate the sentiment scores for all of the content words. Once we have the score for each word, we'll look at differences between sentiment between populations (across age, gender) and when talking about family."
   ]
  },
  {
   "cell_type": "code",
   "execution_count": 17,
   "metadata": {
    "collapsed": false
   },
   "outputs": [],
   "source": [
    "content_word_list = all_data['Content Word'].tolist()\n",
    "# TODO: Ishan, fill in your implementation here.\n",
    "# if for some reason you're unable to identify a score for a word, \n",
    "# just set it to something outside of the possible range.\n",
    "# it'd be ideal if once you generate the scores you could add them as a column in the pandas dataframe object\n",
    "\n",
    "# sentiment_scores = ..."
   ]
  },
  {
   "cell_type": "code",
   "execution_count": null,
   "metadata": {
    "collapsed": true
   },
   "outputs": [],
   "source": []
  }
 ],
 "metadata": {
  "kernelspec": {
   "display_name": "Python 2",
   "language": "python",
   "name": "python2"
  },
  "language_info": {
   "codemirror_mode": {
    "name": "ipython",
    "version": 2
   },
   "file_extension": ".py",
   "mimetype": "text/x-python",
   "name": "python",
   "nbconvert_exporter": "python",
   "pygments_lexer": "ipython2",
   "version": "2.7.11"
  }
 },
 "nbformat": 4,
 "nbformat_minor": 0
}
