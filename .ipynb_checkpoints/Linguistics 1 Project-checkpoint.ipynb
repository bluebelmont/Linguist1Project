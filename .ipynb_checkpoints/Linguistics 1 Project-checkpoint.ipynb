{
 "cells": [
  {
   "cell_type": "markdown",
   "metadata": {},
   "source": [
    "# Speaking about family: differences in speech patterns across demographics \n",
    "\n",
    "This notebook contains all of the analyses for Group 13's final project in Linguistics 1. "
   ]
  },
  {
   "cell_type": "markdown",
   "metadata": {},
   "source": [
    "## Project Proposal\n",
    "\n",
    "1. **Issue/Behavior of interest** We are interested in exploring how conversations about family differ across gender/age/other demographics. Perhaps there is a gender difference in the types of words surrounding family conversations, or perhaps the gender makeup of the conversations (man-to-man vs. man-to-woman vs. woman-to-woman) result in significant differences in the words. These are the general questions we are interested in pursuing.\n",
    "\n",
    "2. **Research Question** Are there any notable differences in the keywords or the sentiment used by male speakers and female speakers in conversations about family?\n",
    "\n",
    "3. **Proposed Methods** Since we are specifically interested in conversations about family, we plan to preprocess the data to only specifically select conversations with a listed “Theme/Topic” of Family, or conversations where family related keywords could appear. Within this subset of the data, we plan to compare 1) the frequency of particular content words and 2) the sentiment of content words across different speaker populations (male, female, young, old). Comparing the frequency of content words will be straightforward; doing sentiment analysis will be slightly more complicated, but open source sentiment analysis software (NLTK) will simplify the task immensely. As a first past, we’ll look at whether females/males speak more/less positively while speaking about family.\n",
    "\n",
    "4. **Further Questions** Is there a dependence on the speaker’s content words (either frequency or sentiment) on the listener? Are there interaction effects between the age and sex of a speaker on the sentiment of their speech? \n"
   ]
  },
  {
   "cell_type": "markdown",
   "metadata": {},
   "source": [
    "## Data Preprocessing\n",
    "\n",
    "The raw data contains 17683 entries. Each entry corresponds to a single word, and a number of features related to the setting in which the word was spoken:\n",
    "* Cafe Name\n",
    "* Time of Day\n",
    "* Speaker Age and Gender\n",
    "* Listener 1 and 2 Age and Gender\n",
    "* Theme/Topic\n",
    "* Formality (Informal, Neutral, Formal)\n",
    "\n",
    "### Filtering Theme/Topic\n",
    "For our study, we are interested solely in entries whose Theme/Topic contains the word family. Thus, we filtered the entries to include only those who's 'Theme/Topic' column contained the word 'Family'. \n",
    "\n",
    "Of these remaining entries, one conversation was labeled as 'General discussion among family'; we discarded all such entries because we are interested in conversations *about* family, not just *among* family.\n",
    "\n",
    "### Fixing Ages\n",
    "Many of the recorded ages included ranges rather than single numbers (e.g. '18-25', '30s'). In these cases, we approximate these ages with the mean of the range.\n",
    "\n",
    "### Phrases to words\n",
    "Despite clear instruction, some students failed to understand that the 'Content Words (one word, not phrases)' column was to contain one word, not phrases. We limit our analysis to entries with only a single word in the Content Words column.\n",
    "\n",
    "The CSV with the clean data can be found [here](all_clean_data.csv). It only contains columns with Speaker Age and Gender, Listener 1 Age and Gender, Theme/Topic (with an additional logical column indicating whether it is about 'family'), and the content word. "
   ]
  },
  {
   "cell_type": "markdown",
   "metadata": {
    "collapsed": true
   },
   "source": [
    "## Loading the Data\n",
    "\n",
    "Now that we have the data in a clean CSV file, we need to get it in a format that we can use in python for further analysis. We'll use [pandas](http://pandas.pydata.org/), a popular tool for handling data in python."
   ]
  },
  {
   "cell_type": "code",
   "execution_count": 80,
   "metadata": {
    "collapsed": false
   },
   "outputs": [],
   "source": [
    "import pandas\n",
    "all_data = pandas.read_csv('all_clean_data.csv')"
   ]
  },
  {
   "cell_type": "markdown",
   "metadata": {},
   "source": [
    "Here's the top of our data table:"
   ]
  },
  {
   "cell_type": "code",
   "execution_count": 52,
   "metadata": {
    "collapsed": false
   },
   "outputs": [
    {
     "data": {
      "text/html": [
       "<div>\n",
       "<table border=\"1\" class=\"dataframe\">\n",
       "  <thead>\n",
       "    <tr style=\"text-align: right;\">\n",
       "      <th></th>\n",
       "      <th>Speaker Age</th>\n",
       "      <th>Speaker Gender</th>\n",
       "      <th>Listener 1 Age</th>\n",
       "      <th>Listener 1 Gender</th>\n",
       "      <th>Content Word</th>\n",
       "      <th>Theme/Topic</th>\n",
       "      <th>Is about Family</th>\n",
       "    </tr>\n",
       "  </thead>\n",
       "  <tbody>\n",
       "    <tr>\n",
       "      <th>0</th>\n",
       "      <td>45</td>\n",
       "      <td>male</td>\n",
       "      <td>15</td>\n",
       "      <td>female</td>\n",
       "      <td>Allergic</td>\n",
       "      <td>Allergies</td>\n",
       "      <td>0</td>\n",
       "    </tr>\n",
       "    <tr>\n",
       "      <th>1</th>\n",
       "      <td>45</td>\n",
       "      <td>male</td>\n",
       "      <td>15</td>\n",
       "      <td>female</td>\n",
       "      <td>Reactions</td>\n",
       "      <td>Allergies</td>\n",
       "      <td>0</td>\n",
       "    </tr>\n",
       "    <tr>\n",
       "      <th>2</th>\n",
       "      <td>45</td>\n",
       "      <td>male</td>\n",
       "      <td>15</td>\n",
       "      <td>female</td>\n",
       "      <td>Lactose</td>\n",
       "      <td>Allergies</td>\n",
       "      <td>0</td>\n",
       "    </tr>\n",
       "    <tr>\n",
       "      <th>3</th>\n",
       "      <td>45</td>\n",
       "      <td>male</td>\n",
       "      <td>15</td>\n",
       "      <td>female</td>\n",
       "      <td>Free</td>\n",
       "      <td>Allergies</td>\n",
       "      <td>0</td>\n",
       "    </tr>\n",
       "    <tr>\n",
       "      <th>4</th>\n",
       "      <td>45</td>\n",
       "      <td>male</td>\n",
       "      <td>15</td>\n",
       "      <td>female</td>\n",
       "      <td>Milk</td>\n",
       "      <td>Allergies</td>\n",
       "      <td>0</td>\n",
       "    </tr>\n",
       "  </tbody>\n",
       "</table>\n",
       "</div>"
      ],
      "text/plain": [
       "  Speaker Age Speaker Gender  Listener 1 Age Listener 1 Gender Content Word  \\\n",
       "0          45           male              15            female     Allergic   \n",
       "1          45           male              15            female    Reactions   \n",
       "2          45           male              15            female      Lactose   \n",
       "3          45           male              15            female         Free   \n",
       "4          45           male              15            female         Milk   \n",
       "\n",
       "  Theme/Topic  Is about Family  \n",
       "0   Allergies                0  \n",
       "1   Allergies                0  \n",
       "2   Allergies                0  \n",
       "3   Allergies                0  \n",
       "4   Allergies                0  "
      ]
     },
     "execution_count": 52,
     "metadata": {},
     "output_type": "execute_result"
    }
   ],
   "source": [
    "all_data.head()"
   ]
  },
  {
   "cell_type": "markdown",
   "metadata": {},
   "source": [
    "## Sentiment Analysis\n",
    "\n",
    "Our project makes use of 'sentiment analysis', a technique in natural language processessing that evaluates the sentiment of words, sentences, or other bodies of text. There are many approaches to sentiment analysis (**CITATIONS**). \n",
    "\n",
    "### SentiWordNet\n",
    "**ISHAN**, fill this in with details about how sentiwordnet is trained, the underlying model, etc. and cite the source code\n",
    "\n",
    "### Generating Sentiment Scores\n",
    "\n",
    "Now, we generate the sentiment scores for all of the content words. Once we have the score for each word, we'll look at differences between sentiment between populations (across age, gender) and when talking about family.\n",
    "\n",
    "Notes about these scores: as each word could have many meanings (each with different sentiments), we use the mean of each of these scores"
   ]
  },
  {
   "cell_type": "code",
   "execution_count": 81,
   "metadata": {
    "collapsed": false
   },
   "outputs": [
    {
     "name": "stdout",
     "output_type": "stream",
     "text": [
      "Processing word:  0\n",
      "Processing word:  1000\n",
      "Processing word:  2000\n",
      "Processing word:  3000\n",
      "Processing word:  4000\n",
      "Processing word:  5000\n",
      "Processing word:  6000\n",
      "Processing word:  7000\n",
      "Processing word:  8000\n",
      "Processing word:  9000\n",
      "Processing word:  10000\n",
      "Processing word:  11000\n",
      "Processing word:  12000\n",
      "Processing word:  13000\n",
      "Processing word:  14000\n",
      "Processing word:  15000\n"
     ]
    }
   ],
   "source": [
    "from os import listdir\n",
    "from os.path import isfile, join, getsize\n",
    "from collections import defaultdict\n",
    "from collections import Counter\n",
    "from os import getcwd\n",
    "import nltk\n",
    "from nltk.corpus import wordnet as wn\n",
    "from nltk.corpus import sentiwordnet as swn\n",
    "import numpy as np\n",
    "import time\n",
    "\n",
    "has_sentiment = np.zeros(len(content_word_list));\n",
    "content_word_positive_scores = -np.ones(len(content_word_list));\n",
    "content_word_negative_scores = -np.ones(len(content_word_list));\n",
    "content_word_objective_scores = -np.ones(len(content_word_list));\n",
    "\n",
    "for i, word in enumerate(content_word_list):\n",
    "    synsets = swn.senti_synsets(word)\n",
    "    if synsets:\n",
    "        has_sentiment[i] = 1\n",
    "        content_word_positive_scores[i] = np.mean([syns.pos_score() for syns in synsets])\n",
    "        content_word_negative_scores[i] = np.mean([syns.neg_score() for syns in synsets])\n",
    "        content_word_objective_scores[i] = np.mean([syns.obj_score() for syns in synsets])\n",
    "    if i % 1000 == 0:\n",
    "        print 'Processing word: ', i\n",
    "\n",
    "all_data['Positive Score'] = content_word_positive_scores\n",
    "all_data['Negative Score'] = content_word_negative_scores\n",
    "all_data['Objective Score'] = content_word_objective_scores"
   ]
  },
  {
   "cell_type": "code",
   "execution_count": 86,
   "metadata": {
    "collapsed": false
   },
   "outputs": [
    {
     "name": "stdout",
     "output_type": "stream",
     "text": [
      "Total number of words:  15501\n",
      "Number of words with sentiment data:  14113.0\n"
     ]
    },
    {
     "data": {
      "text/html": [
       "<div>\n",
       "<table border=\"1\" class=\"dataframe\">\n",
       "  <thead>\n",
       "    <tr style=\"text-align: right;\">\n",
       "      <th></th>\n",
       "      <th>Speaker Age</th>\n",
       "      <th>Speaker Gender</th>\n",
       "      <th>Listener 1 Age</th>\n",
       "      <th>Listener 1 Gender</th>\n",
       "      <th>Content Word</th>\n",
       "      <th>Theme/Topic</th>\n",
       "      <th>Is about Family</th>\n",
       "      <th>Positive Score</th>\n",
       "      <th>Negative Score</th>\n",
       "      <th>Objective Score</th>\n",
       "    </tr>\n",
       "  </thead>\n",
       "  <tbody>\n",
       "    <tr>\n",
       "      <th>15495</th>\n",
       "      <td>30</td>\n",
       "      <td>male</td>\n",
       "      <td>35</td>\n",
       "      <td>female</td>\n",
       "      <td>like</td>\n",
       "      <td>weekend plans</td>\n",
       "      <td>0</td>\n",
       "      <td>0.284091</td>\n",
       "      <td>0.022727</td>\n",
       "      <td>0.693182</td>\n",
       "    </tr>\n",
       "    <tr>\n",
       "      <th>15496</th>\n",
       "      <td>30</td>\n",
       "      <td>male</td>\n",
       "      <td>35</td>\n",
       "      <td>female</td>\n",
       "      <td>phone</td>\n",
       "      <td>weekend plans</td>\n",
       "      <td>0</td>\n",
       "      <td>0.000000</td>\n",
       "      <td>0.000000</td>\n",
       "      <td>1.000000</td>\n",
       "    </tr>\n",
       "    <tr>\n",
       "      <th>15498</th>\n",
       "      <td>40</td>\n",
       "      <td>female</td>\n",
       "      <td>40</td>\n",
       "      <td>female</td>\n",
       "      <td>Latte</td>\n",
       "      <td>Which coffee shops are better</td>\n",
       "      <td>0</td>\n",
       "      <td>0.000000</td>\n",
       "      <td>0.000000</td>\n",
       "      <td>1.000000</td>\n",
       "    </tr>\n",
       "    <tr>\n",
       "      <th>15499</th>\n",
       "      <td>40</td>\n",
       "      <td>female</td>\n",
       "      <td>40</td>\n",
       "      <td>female</td>\n",
       "      <td>Local</td>\n",
       "      <td>Which coffee shops are better</td>\n",
       "      <td>0</td>\n",
       "      <td>0.000000</td>\n",
       "      <td>0.000000</td>\n",
       "      <td>1.000000</td>\n",
       "    </tr>\n",
       "    <tr>\n",
       "      <th>15500</th>\n",
       "      <td>40</td>\n",
       "      <td>female</td>\n",
       "      <td>40</td>\n",
       "      <td>female</td>\n",
       "      <td>Quality</td>\n",
       "      <td>Which coffee shops are better</td>\n",
       "      <td>0</td>\n",
       "      <td>0.357143</td>\n",
       "      <td>0.000000</td>\n",
       "      <td>0.642857</td>\n",
       "    </tr>\n",
       "  </tbody>\n",
       "</table>\n",
       "</div>"
      ],
      "text/plain": [
       "      Speaker Age Speaker Gender  Listener 1 Age Listener 1 Gender  \\\n",
       "15495          30           male              35            female   \n",
       "15496          30           male              35            female   \n",
       "15498          40         female              40            female   \n",
       "15499          40         female              40            female   \n",
       "15500          40         female              40            female   \n",
       "\n",
       "      Content Word                    Theme/Topic  Is about Family  \\\n",
       "15495         like                  weekend plans                0   \n",
       "15496        phone                  weekend plans                0   \n",
       "15498        Latte  Which coffee shops are better                0   \n",
       "15499        Local  Which coffee shops are better                0   \n",
       "15500      Quality  Which coffee shops are better                0   \n",
       "\n",
       "       Positive Score  Negative Score  Objective Score  \n",
       "15495        0.284091        0.022727         0.693182  \n",
       "15496        0.000000        0.000000         1.000000  \n",
       "15498        0.000000        0.000000         1.000000  \n",
       "15499        0.000000        0.000000         1.000000  \n",
       "15500        0.357143        0.000000         0.642857  "
      ]
     },
     "execution_count": 86,
     "metadata": {},
     "output_type": "execute_result"
    }
   ],
   "source": [
    "print 'Total number of words: ', len(content_word_list)\n",
    "print 'Number of words with sentiment data: ', sum(has_sentiment) \n",
    "sentiment_data = all_data[has_sentiment == 1]\n",
    "sentiment_data.tail()"
   ]
  },
  {
   "cell_type": "code",
   "execution_count": null,
   "metadata": {
    "collapsed": true
   },
   "outputs": [],
   "source": []
  }
 ],
 "metadata": {
  "kernelspec": {
   "display_name": "Python 2",
   "language": "python",
   "name": "python2"
  },
  "language_info": {
   "codemirror_mode": {
    "name": "ipython",
    "version": 2
   },
   "file_extension": ".py",
   "mimetype": "text/x-python",
   "name": "python",
   "nbconvert_exporter": "python",
   "pygments_lexer": "ipython2",
   "version": "2.7.11"
  }
 },
 "nbformat": 4,
 "nbformat_minor": 0
}
